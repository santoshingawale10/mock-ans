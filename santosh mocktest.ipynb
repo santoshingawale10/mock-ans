{
 "cells": [
  {
   "cell_type": "code",
   "execution_count": 2,
   "id": "dc17e3b2",
   "metadata": {},
   "outputs": [
    {
     "name": "stdout",
     "output_type": "stream",
     "text": [
      "Enter a sentence: lokesh\n",
      "Number of uppercase letters: 0\n",
      "Number of lowercase letters: 6\n"
     ]
    }
   ],
   "source": [
    "{2}\n",
    "def count_case_letters(sentence):\n",
    "\n",
    "    upper_count = 0\n",
    "    lower_count = 0\n",
    "\n",
    "    for char in sentence:\n",
    "        \n",
    "        if char.isupper():\n",
    "            upper_count += 1\n",
    "            \n",
    "        elif char.islower():\n",
    "            lower_count += 1\n",
    "\n",
    "\n",
    "    print(\"Number of uppercase letters:\", upper_count)\n",
    "    print(\"Number of lowercase letters:\", lower_count)\n",
    "input_sentence = input(\"Enter a sentence: \")\n",
    "count_case_letters(input_sentence)"
   ]
  },
  {
   "cell_type": "code",
   "execution_count": 6,
   "id": "476e9996",
   "metadata": {},
   "outputs": [
    {
     "name": "stdout",
     "output_type": "stream",
     "text": [
      "2002,2009,2016,2023,2037,2044,2051,2058,2072,2079,2086,2093,2107,2114,2121,2128,2142,2149,2156,2163,2177,2184,2191,2198,2212,2219,2226,2233,2247,2254,2261,2268,2282,2289,2296,2303,2317,2324,2331,2338,2352,2359,2366,2373,2387,2394,2401,2408,2422,2429,2436,2443,2457,2464,2471,2478,2492,2499,2506,2513,2527,2534,2541,2548,2562,2569,2576,2583,2597,2604,2611,2618,2632,2639,2646,2653,2667,2674,2681,2688,2702,2709,2716,2723,2737,2744,2751,2758,2772,2779,2786,2793,2807,2814,2821,2828,2842,2849,2856,2863,2877,2884,2891,2898,2912,2919,2926,2933,2947,2954,2961,2968,2982,2989,2996,3003,3017,3024,3031,3038,3052,3059,3066,3073,3087,3094,3101,3108,3122,3129,3136,3143,3157,3164,3171,3178,3192,3199\n"
     ]
    }
   ],
   "source": [
    "{1}\n",
    "Num = []\n",
    "for i in range(2000, 3201):\n",
    "    if (i % 7 == 0) and (i % 5 != 0):\n",
    "        Num.append(str(i))\n",
    "print(','.join(Num))"
   ]
  },
  {
   "cell_type": "code",
   "execution_count": null,
   "id": "1954cf8b",
   "metadata": {},
   "outputs": [],
   "source": [
    "{5}\n",
    "Yes, it is possible to get higher accuracy with a time series regression model than\n",
    "with a decision tree algorithm. Time series data is known to possess linearity, and\n",
    "a decision tree algorithm is known to work best to detect non-linear interactions. \n",
    "    "
   ]
  },
  {
   "cell_type": "code",
   "execution_count": null,
   "id": "61878a1a",
   "metadata": {
    "collapsed": true
   },
   "outputs": [],
   "source": [
    "{3}\n",
    "Feature Selection:\n",
    "Use techniques like feature importance or statistical tests to select a subset of the most relevant features.\n",
    "Correlation Analysis:\n",
    "Identify and remove highly correlated features, as they may not provide additional information.\n",
    "Feature Engineering:\n",
    "Create new features by combining or transforming existing ones. This can sometimes result\n",
    "in a more compact and informative representation of the data\n",
    "Data Sampling:\n",
    "If the size of the dataset is a concern, consider using a representative subset for training.\n",
    "Techniques like random sampling or stratified sampling can be employed to create a smaller\n",
    "dataset while preserving the class distribution.\n"
   ]
  },
  {
   "cell_type": "code",
   "execution_count": null,
   "id": "356616ac",
   "metadata": {},
   "outputs": [],
   "source": [
    "{4}\n",
    "\n",
    " In the case of cancer we interested in minority class which is patients who actually have cancer.\n",
    "In our case the ratio is only 4% and the majority class is 96%. If we have worked on enough data sets,\n",
    "we should deduce that cancer detection results in imbalanced data.In an imbalanced dataset,accuracy should\n",
    "not be used as a measure of performance. \n",
    "\n",
    "1. Prior probability: The probability of each class before any characteristics are observed is known as the prior probability\n",
    "    in the Naive Bayes method.\n",
    "2. Likelihood: In the Naive Bayes method, the likelihood is the likelihood of detecting each feature given the class.\n",
    "3. Marginal likelihood: The probability of witnessing the evidence is known as the marginal likelihood in the Naive Bayes method."
   ]
  },
  {
   "cell_type": "code",
   "execution_count": null,
   "id": "9ddd62b5",
   "metadata": {},
   "outputs": [],
   "source": [
    "{3}\n",
    "  To reduce the dimensionality of a dataset. We can employ dimensionality reduction methods like Principal Component Analysis\n",
    "    (PCA), and Singular Value Decomposition (SVD). To choose a subset of the most pertinent features, we can also think about\n",
    "    feature selection strategies. And to work with huge datasets that do not fit into memory, \n",
    "    we can utilize randomized PCA (RPCA) or incremental PCA (IPCA). "
   ]
  },
  {
   "cell_type": "code",
   "execution_count": null,
   "id": "601b1975",
   "metadata": {},
   "outputs": [],
   "source": [
    "{9}\n",
    " Ridge regression is favorable over Lasso regression when all the features in the dataset are important\n",
    "and none of them can be removed. Ridge regression is also preferred when the number of features is greater than\n",
    "the number of observations. To select important variables from a dataset, you can use methods such as univariate \n",
    "feature selection, recursive feature elimination, and regularizationmethods such as L1 or L2 regularization."
   ]
  },
  {
   "cell_type": "code",
   "execution_count": null,
   "id": "2f0d92ac",
   "metadata": {},
   "outputs": [],
   "source": [
    "{7}\n",
    "It is not necessary to remove correlated variables before performing Principal Component Analysis (PCA).\n",
    "PCA is a technique that identifies the principal components that explain the most variation in the data and reduces\n",
    " redundant information by creating a set of entirely uncorrelated components"
   ]
  },
  {
   "cell_type": "code",
   "execution_count": null,
   "id": "f25b703c",
   "metadata": {},
   "outputs": [],
   "source": [
    "{6}\n",
    " Low bias and high variance indicate that your model is overfitting the training set and is not performing well when applied\n",
    "to fresh data.It is advised to apply regularization techniques in these situations to lower the model's variance.\n",
    "Regularization strategies like L1 or L2 regularization can lessen the likelihood of overfitting and \n",
    "enhance the model's capacity for generalization.An additional strategy is to apply group techniques like boosting or bagging."
   ]
  },
  {
   "cell_type": "code",
   "execution_count": 7,
   "id": "e3a4347d",
   "metadata": {},
   "outputs": [
    {
     "name": "stdout",
     "output_type": "stream",
     "text": [
      "Unknown Gender\n",
      "Male\n",
      "Female\n"
     ]
    }
   ],
   "source": [
    "{15}\n",
    "class Person:\n",
    "    def getGender(self):\n",
    "        print(\"Unknown Gender\")\n",
    "\n",
    "class Male(Person):\n",
    "    def getGender(self):\n",
    "        print(\"Male\")\n",
    "\n",
    "class Female(Person):\n",
    "    def getGender(self):\n",
    "        print(\"Female\")\n",
    "person = Person()\n",
    "male = Male()\n",
    "female = Female()\n",
    "\n",
    "person.getGender() \n",
    "male.getGender()    \n",
    "female.getGender()"
   ]
  },
  {
   "cell_type": "code",
   "execution_count": 8,
   "id": "133e7ddd",
   "metadata": {},
   "outputs": [
    {
     "name": "stdout",
     "output_type": "stream",
     "text": [
      "List of 5 random even numbers between 100 and 200: [118, 124, 164, 200, 130]\n"
     ]
    }
   ],
   "source": [
    "{14}\n",
    "import random\n",
    "even_num = []\n",
    "while len(even_num) < 5:\n",
    "    number = random.randint(100, 200)\n",
    "    if number % 2 == 0:\n",
    "        even_num.append(number)\n",
    "print(\"List of 5 random even numbers between 100 and 200:\", even_num)"
   ]
  },
  {
   "cell_type": "code",
   "execution_count": null,
   "id": "f86b6cd8",
   "metadata": {},
   "outputs": [],
   "source": []
  }
 ],
 "metadata": {
  "kernelspec": {
   "display_name": "Python 3 (ipykernel)",
   "language": "python",
   "name": "python3"
  },
  "language_info": {
   "codemirror_mode": {
    "name": "ipython",
    "version": 3
   },
   "file_extension": ".py",
   "mimetype": "text/x-python",
   "name": "python",
   "nbconvert_exporter": "python",
   "pygments_lexer": "ipython3",
   "version": "3.11.4"
  }
 },
 "nbformat": 4,
 "nbformat_minor": 5
}
